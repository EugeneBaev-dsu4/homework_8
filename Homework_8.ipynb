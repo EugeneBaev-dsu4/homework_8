{
 "cells": [
  {
   "cell_type": "markdown",
   "metadata": {},
   "source": [
    "## Задание 1"
   ]
  },
  {
   "cell_type": "code",
   "execution_count": 1,
   "metadata": {},
   "outputs": [],
   "source": [
    "import re"
   ]
  },
  {
   "cell_type": "code",
   "execution_count": 10,
   "metadata": {},
   "outputs": [
    {
     "name": "stdout",
     "output_type": "stream",
     "text": [
      "Введите гос номер: х966ун163\n",
      "Номер х966ун163 правильный\n",
      "Регион: 163\n"
     ]
    }
   ],
   "source": [
    "number_car = input('Введите гос номер: ')\n",
    "def print_num_reg(number):\n",
    "    regex_number='^[АВЕКМНОРСТУХ]\\d{3}(?<!000)[АВЕКМНОРСТУХ]{2}\\d{2,3}'\n",
    "    if re.match(regex_number, number.upper()):\n",
    "        print('Номер {} правильный'.format(number))\n",
    "        regex = r'\\d+'\n",
    "        region = re.findall(regex, number)\n",
    "        print ('Регион:', region[1])\n",
    "    else:\n",
    "        print ('Номер неверный!')\n",
    "print_num_reg(number_car)"
   ]
  },
  {
   "cell_type": "markdown",
   "metadata": {},
   "source": [
    "## Задание 2"
   ]
  },
  {
   "cell_type": "code",
   "execution_count": 11,
   "metadata": {},
   "outputs": [
    {
     "data": {
      "text/plain": [
       "'Напишите функцию, которая будет удалять все последовательные повторы слов из заданой строки при помощи регулярных выражений'"
      ]
     },
     "execution_count": 11,
     "metadata": {},
     "output_type": "execute_result"
    }
   ],
   "source": [
    "some_string = 'Напишите функцию функцию, которая будет будет будет будет удалять все все все все последовательные повторы слов из из из из заданной строки строки при помощи регулярных выражений'\n",
    "def regex_replay(string):\n",
    "    regex=r'(.+?)\\1+'\n",
    "    result=re.sub(regex, r'\\1',string)\n",
    "    return result\n",
    "regex_replay(some_string)"
   ]
  },
  {
   "cell_type": "markdown",
   "metadata": {},
   "source": [
    "## Задание 3"
   ]
  },
  {
   "cell_type": "code",
   "execution_count": 14,
   "metadata": {},
   "outputs": [
    {
     "data": {
      "text/plain": [
       "'ИТ'"
      ]
     },
     "execution_count": 14,
     "metadata": {},
     "output_type": "execute_result"
    }
   ],
   "source": [
    "some_words = 'Информационные технологии'\n",
    "def print_acronym(string):\n",
    "    regex = r'(\\b\\w)'\n",
    "    list_find = re.findall(regex, string)\n",
    "    str_find = ''.join(list_find)\n",
    "    return (str_find.upper())\n",
    "print_acronym(some_words)"
   ]
  },
  {
   "cell_type": "markdown",
   "metadata": {},
   "source": [
    "## Задание 4"
   ]
  },
  {
   "cell_type": "code",
   "execution_count": 55,
   "metadata": {},
   "outputs": [
    {
     "name": "stdout",
     "output_type": "stream",
     "text": [
      "@gmail.com: 2\n",
      "@ya.ru: 2\n",
      "@test.in: 1\n",
      "@mail.ru: 1\n",
      "others: 0\n"
     ]
    }
   ],
   "source": [
    "import re\n",
    "emails = ['test@gmail.com', 'xyz@test.in', 'test@ya.ru', 'xyz@mail.ru', 'xyz@ya.ru', 'xyz@gmail.com']\n",
    "\n",
    "def email_domens(email):\n",
    "    gmail_com = 0\n",
    "    ya_ru = 0\n",
    "    test_in = 0\n",
    "    mail_ru = 0\n",
    "    others = 0\n",
    "    for mail in email:\n",
    "        domen_pattern = r'@\\w+.\\w+'\n",
    "        domen = re.findall(domen_pattern, mail)\n",
    "        for dom in domen:\n",
    "            if dom == '@gmail.com':\n",
    "                gmail_com += 1\n",
    "            elif dom == '@ya.ru':\n",
    "                ya_ru += 1\n",
    "            elif dom == '@test.in':\n",
    "                test_in += 1\n",
    "            elif dom == '@mail.ru':\n",
    "                mail_ru += 1\n",
    "            else:\n",
    "                others += 1\n",
    "                \n",
    "    print('@gmail.com:', gmail_com)\n",
    "    print('@ya.ru:', ya_ru)\n",
    "    print('@test.in:', test_in)\n",
    "    print('@mail.ru:', mail_ru)\n",
    "    print ('others:', others)\n",
    "email_domens(emails)"
   ]
  },
  {
   "cell_type": "code",
   "execution_count": null,
   "metadata": {},
   "outputs": [],
   "source": []
  }
 ],
 "metadata": {
  "kernelspec": {
   "display_name": "Python 3",
   "language": "python",
   "name": "python3"
  },
  "language_info": {
   "codemirror_mode": {
    "name": "ipython",
    "version": 3
   },
   "file_extension": ".py",
   "mimetype": "text/x-python",
   "name": "python",
   "nbconvert_exporter": "python",
   "pygments_lexer": "ipython3",
   "version": "3.7.6"
  }
 },
 "nbformat": 4,
 "nbformat_minor": 4
}
